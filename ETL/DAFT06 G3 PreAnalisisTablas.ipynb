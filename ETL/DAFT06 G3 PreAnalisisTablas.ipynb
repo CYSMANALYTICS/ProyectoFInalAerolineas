{
 "cells": [
  {
   "cell_type": "markdown",
   "metadata": {},
   "source": [
    "### GENERAL"
   ]
  },
  {
   "cell_type": "code",
   "execution_count": 4,
   "metadata": {},
   "outputs": [],
   "source": [
    "import pandas as pd"
   ]
  },
  {
   "cell_type": "code",
   "execution_count": 5,
   "metadata": {},
   "outputs": [],
   "source": [
    "import numpy as np"
   ]
  },
  {
   "cell_type": "code",
   "execution_count": 6,
   "metadata": {},
   "outputs": [],
   "source": [
    "import sqlite3"
   ]
  },
  {
   "cell_type": "code",
   "execution_count": 7,
   "metadata": {},
   "outputs": [],
   "source": [
    "import matplotlib.pyplot as plt\n",
    "import seaborn as sns"
   ]
  },
  {
   "cell_type": "code",
   "execution_count": 8,
   "metadata": {},
   "outputs": [],
   "source": [
    "db_path = r'C:\\PI\\Proyecto Final\\travel.sqlite'"
   ]
  },
  {
   "cell_type": "code",
   "execution_count": 9,
   "metadata": {},
   "outputs": [],
   "source": [
    "# Conectar a la base de datos SQLite\n",
    "conexion = sqlite3.connect(db_path)"
   ]
  },
  {
   "cell_type": "code",
   "execution_count": 10,
   "metadata": {},
   "outputs": [
    {
     "name": "stdout",
     "output_type": "stream",
     "text": [
      "Tablas disponibles: [('aircrafts_data',), ('airports_data',), ('boarding_passes',), ('bookings',), ('flights',), ('seats',), ('ticket_flights',), ('tickets',)]\n"
     ]
    }
   ],
   "source": [
    "# Crear un cursor para ejecutar consultas SQL\n",
    "cursor = conexion.cursor()\n",
    "\n",
    "# Ejecutar una consulta para ver las tablas disponibles\n",
    "cursor.execute(\"SELECT name FROM sqlite_master WHERE type='table';\")\n",
    "tablas = cursor.fetchall()\n",
    "print(\"Tablas disponibles:\", tablas)\n"
   ]
  },
  {
   "cell_type": "markdown",
   "metadata": {},
   "source": []
  },
  {
   "cell_type": "markdown",
   "metadata": {},
   "source": [
    "### ANALISIS DE TABLAS"
   ]
  },
  {
   "cell_type": "markdown",
   "metadata": {},
   "source": [
    "#### 1-BOOKINGS"
   ]
  },
  {
   "cell_type": "code",
   "execution_count": 34,
   "metadata": {},
   "outputs": [
    {
     "name": "stdout",
     "output_type": "stream",
     "text": [
      "  book_ref               book_date  total_amount\n",
      "0   00000F  2017-07-05 03:12:00+03        265700\n",
      "1   000012  2017-07-14 09:02:00+03         37900\n",
      "2   000068  2017-08-15 14:27:00+03         18100\n",
      "3   000181  2017-08-10 13:28:00+03        131800\n",
      "4   0002D8  2017-08-07 21:40:00+03         23600\n"
     ]
    }
   ],
   "source": [
    "# Cargar una tabla específica en un DataFrame de pandas\n",
    "# Suponiendo que la tabla se llama 'mi_tabla'\n",
    "df_bookings = pd.read_sql_query(\"SELECT * FROM bookings\", conexion)\n",
    "\n",
    "# Mostrar las primeras filas de la tabla cargada\n",
    "print(df_bookings.head())\n",
    "\n",
    "\n"
   ]
  },
  {
   "cell_type": "code",
   "execution_count": 9,
   "metadata": {},
   "outputs": [
    {
     "data": {
      "text/plain": [
       "(262788, 3)"
      ]
     },
     "execution_count": 9,
     "metadata": {},
     "output_type": "execute_result"
    }
   ],
   "source": [
    "df_bookings.shape"
   ]
  },
  {
   "cell_type": "code",
   "execution_count": 11,
   "metadata": {},
   "outputs": [
    {
     "data": {
      "text/plain": [
       "262788"
      ]
     },
     "execution_count": 11,
     "metadata": {},
     "output_type": "execute_result"
    }
   ],
   "source": [
    "df_bookings['book_ref'].nunique()"
   ]
  },
  {
   "cell_type": "code",
   "execution_count": 13,
   "metadata": {},
   "outputs": [],
   "source": [
    "# Configurar pandas para evitar la notación científica\n",
    "\n",
    "pd.set_option('display.float_format', '{:,.2f}'.format)\n"
   ]
  },
  {
   "cell_type": "code",
   "execution_count": 14,
   "metadata": {},
   "outputs": [
    {
     "data": {
      "text/plain": [
       "Index(['book_ref', 'book_date', 'total_amount'], dtype='object')"
      ]
     },
     "execution_count": 14,
     "metadata": {},
     "output_type": "execute_result"
    }
   ],
   "source": [
    "df_bookings.columns"
   ]
  },
  {
   "cell_type": "code",
   "execution_count": 15,
   "metadata": {},
   "outputs": [
    {
     "name": "stdout",
     "output_type": "stream",
     "text": [
      "<class 'pandas.core.frame.DataFrame'>\n",
      "RangeIndex: 262788 entries, 0 to 262787\n",
      "Data columns (total 3 columns):\n",
      " #   Column        Non-Null Count   Dtype \n",
      "---  ------        --------------   ----- \n",
      " 0   book_ref      262788 non-null  object\n",
      " 1   book_date     262788 non-null  object\n",
      " 2   total_amount  262788 non-null  int64 \n",
      "dtypes: int64(1), object(2)\n",
      "memory usage: 6.0+ MB\n"
     ]
    }
   ],
   "source": [
    "df_bookings.info()"
   ]
  },
  {
   "cell_type": "code",
   "execution_count": 16,
   "metadata": {},
   "outputs": [
    {
     "data": {
      "text/html": [
       "<div>\n",
       "<style scoped>\n",
       "    .dataframe tbody tr th:only-of-type {\n",
       "        vertical-align: middle;\n",
       "    }\n",
       "\n",
       "    .dataframe tbody tr th {\n",
       "        vertical-align: top;\n",
       "    }\n",
       "\n",
       "    .dataframe thead th {\n",
       "        text-align: right;\n",
       "    }\n",
       "</style>\n",
       "<table border=\"1\" class=\"dataframe\">\n",
       "  <thead>\n",
       "    <tr style=\"text-align: right;\">\n",
       "      <th></th>\n",
       "      <th>total_amount</th>\n",
       "    </tr>\n",
       "  </thead>\n",
       "  <tbody>\n",
       "    <tr>\n",
       "      <th>count</th>\n",
       "      <td>262,788.00</td>\n",
       "    </tr>\n",
       "    <tr>\n",
       "      <th>mean</th>\n",
       "      <td>79,025.61</td>\n",
       "    </tr>\n",
       "    <tr>\n",
       "      <th>std</th>\n",
       "      <td>77,621.92</td>\n",
       "    </tr>\n",
       "    <tr>\n",
       "      <th>min</th>\n",
       "      <td>3,400.00</td>\n",
       "    </tr>\n",
       "    <tr>\n",
       "      <th>25%</th>\n",
       "      <td>29,000.00</td>\n",
       "    </tr>\n",
       "    <tr>\n",
       "      <th>50%</th>\n",
       "      <td>55,900.00</td>\n",
       "    </tr>\n",
       "    <tr>\n",
       "      <th>75%</th>\n",
       "      <td>99,200.00</td>\n",
       "    </tr>\n",
       "    <tr>\n",
       "      <th>max</th>\n",
       "      <td>1,204,500.00</td>\n",
       "    </tr>\n",
       "  </tbody>\n",
       "</table>\n",
       "</div>"
      ],
      "text/plain": [
       "       total_amount\n",
       "count    262,788.00\n",
       "mean      79,025.61\n",
       "std       77,621.92\n",
       "min        3,400.00\n",
       "25%       29,000.00\n",
       "50%       55,900.00\n",
       "75%       99,200.00\n",
       "max    1,204,500.00"
      ]
     },
     "execution_count": 16,
     "metadata": {},
     "output_type": "execute_result"
    }
   ],
   "source": [
    "df_bookings.describe()"
   ]
  },
  {
   "cell_type": "code",
   "execution_count": 19,
   "metadata": {},
   "outputs": [
    {
     "name": "stdout",
     "output_type": "stream",
     "text": [
      "total_amount\n",
      "Prom 79025.60581152869\n",
      "mediana 55900.0\n",
      "var 6025162887.247295\n",
      "std 77621.92272320556\n",
      "max 1204500\n",
      "min 3400\n",
      "rango 1201100\n",
      "--------\n"
     ]
    }
   ],
   "source": [
    "for columna in df_bookings.columns:\n",
    "    if df_bookings[columna].dtype== 'float64' or df_bookings[columna].dtype== 'int64':\n",
    "        print(columna)\n",
    "        print (f'Prom {df_bookings[columna].mean()}')\n",
    "        print (f'mediana {df_bookings[columna].median()}')\n",
    "        print (f'var {df_bookings[columna].var()}')\n",
    "        print (f'std {df_bookings[columna].std()}')\n",
    "        print (f'max {df_bookings[columna].max()}')\n",
    "        print (f'min {df_bookings[columna].min()}')\n",
    "        print (f'rango {df_bookings[columna].max()-df_bookings[columna].min()}')\n",
    "        print('--------')\n",
    "           "
   ]
  },
  {
   "cell_type": "markdown",
   "metadata": {},
   "source": [
    "Analisis de nulos\n"
   ]
  },
  {
   "cell_type": "code",
   "execution_count": 40,
   "metadata": {},
   "outputs": [
    {
     "data": {
      "text/plain": [
       "book_ref        0\n",
       "book_date       0\n",
       "total_amount    0\n",
       "dtype: int64"
      ]
     },
     "execution_count": 40,
     "metadata": {},
     "output_type": "execute_result"
    }
   ],
   "source": [
    "df_bookings.isnull().sum()"
   ]
  },
  {
   "cell_type": "code",
   "execution_count": 37,
   "metadata": {},
   "outputs": [
    {
     "name": "stdout",
     "output_type": "stream",
     "text": [
      "Series([], dtype: int64)\n"
     ]
    }
   ],
   "source": [
    "df_bookings_nulos =df_bookings.isnull().sum() [df_bookings.isnull().sum()>0]\n",
    "print(df_bookings_nulos)"
   ]
  },
  {
   "cell_type": "code",
   "execution_count": 40,
   "metadata": {},
   "outputs": [
    {
     "name": "stdout",
     "output_type": "stream",
     "text": [
      "book_ref es unica\n"
     ]
    }
   ],
   "source": [
    "for columna in df_bookings.columns:\n",
    "    if df_bookings[columna].nunique() == df_bookings.shape[0]:\n",
    "        print (f'{columna} es unica' )"
   ]
  },
  {
   "cell_type": "code",
   "execution_count": 14,
   "metadata": {},
   "outputs": [],
   "source": [
    "df_bookings.to_csv('Bookings.csv', index= False)"
   ]
  },
  {
   "cell_type": "code",
   "execution_count": 33,
   "metadata": {},
   "outputs": [],
   "source": [
    "# Obtener las claves foráneas de una tabla específica\n",
    "tabla = 'bookings'  \n",
    "consulta = f\"PRAGMA foreign_key_list({tabla})\"\n",
    "\n",
    "# Ejecutar la consulta\n",
    "cursor = conexion.cursor()\n",
    "cursor.execute(consulta)\n",
    "\n",
    "# Mostrar los resultados\n",
    "claves_foraneas = cursor.fetchall()\n",
    "for clave in claves_foraneas:\n",
    "    print(clave)"
   ]
  },
  {
   "cell_type": "markdown",
   "metadata": {},
   "source": [
    "Analisis de Outliers"
   ]
  },
  {
   "cell_type": "code",
   "execution_count": 11,
   "metadata": {},
   "outputs": [
    {
     "data": {
      "image/png": "[encoded data removed]",
      "text/plain": [
       "<Figure size 1000x600 with 1 Axes>"
      ]
     },
     "metadata": {},
     "output_type": "display_data"
    }
   ],
   "source": [
    "plt.figure(figsize=(10,6))\n",
    "sns.boxplot(data=df_bookings,y='total_amount')\n",
    "plt.title('Amount')\n",
    "plt.show()\n"
   ]
  },
  {
   "cell_type": "code",
   "execution_count": 50,
   "metadata": {},
   "outputs": [
    {
     "name": "stdout",
     "output_type": "stream",
     "text": [
      "(5141, 4)\n",
      "count       5,141.00\n",
      "mean      428,091.34\n",
      "std        96,236.15\n",
      "min       311,900.00\n",
      "25%       369,000.00\n",
      "50%       398,600.00\n",
      "75%       476,000.00\n",
      "max     1,204,500.00\n",
      "Name: total_amount, dtype: float64\n",
      "       book_ref               book_date  total_amount  zscore\n",
      "86       00138A  2017-07-04 12:52:00+03        372500    3.78\n",
      "93       001628  2017-07-15 10:59:00+03        813300    9.46\n",
      "132      001FF3  2017-07-23 22:34:00+03        542200    5.97\n",
      "164      0029D3  2017-08-07 16:12:00+03        397300    4.10\n",
      "178      002E3A  2017-07-29 02:10:00+03        393000    4.04\n",
      "...         ...                     ...           ...     ...\n",
      "262511   FFBB15  2017-07-19 13:39:00+03        443000    4.69\n",
      "262539   FFC1E6  2017-08-03 23:34:00+03        432500    4.55\n",
      "262641   FFDA56  2017-08-14 07:12:00+03        386300    3.96\n",
      "262720   FFEFA8  2017-08-05 11:39:00+03        408500    4.24\n",
      "262748   FFF637  2017-07-28 04:46:00+03        396500    4.09\n",
      "\n",
      "[5141 rows x 4 columns]\n"
     ]
    }
   ],
   "source": [
    "# Calcular la media y desviación estándar\n",
    "mean = np.mean(df_bookings['total_amount'])\n",
    "std = np.std(df_bookings['total_amount'])\n",
    "\n",
    "# Calcular el Z-Score manualmente\n",
    "df_bookings['zscore'] = (df_bookings['total_amount'] - mean) / std\n",
    "\n",
    "# Filtrar los outliers (usando un umbral de 3 para el Z-Score)\n",
    "outliers = df_bookings[df_bookings['zscore'].abs() > 3]\n",
    "\n",
    "print(outliers.shape)\n",
    "print(outliers['total_amount'].describe())\n",
    "print(outliers)"
   ]
  },
  {
   "cell_type": "code",
   "execution_count": 42,
   "metadata": {},
   "outputs": [
    {
     "name": "stdout",
     "output_type": "stream",
     "text": [
      "(257647, 4)\n",
      "count   257,647.00\n",
      "mean     72,060.47\n",
      "std      58,998.39\n",
      "min       3,400.00\n",
      "25%      28,800.00\n",
      "50%      55,800.00\n",
      "75%      94,200.00\n",
      "max     311,700.00\n",
      "Name: total_amount, dtype: float64\n",
      "       book_ref               book_date  total_amount  zscore\n",
      "0        00000F  2017-07-05 03:12:00+03        265700    2.40\n",
      "1        000012  2017-07-14 09:02:00+03         37900   -0.53\n",
      "2        000068  2017-08-15 14:27:00+03         18100   -0.78\n",
      "3        000181  2017-08-10 13:28:00+03        131800    0.68\n",
      "4        0002D8  2017-08-07 21:40:00+03         23600   -0.71\n",
      "...         ...                     ...           ...     ...\n",
      "262783   FFFEF3  2017-07-17 07:23:00+03         56000   -0.30\n",
      "262784   FFFF2C  2017-08-08 05:55:00+03         10800   -0.88\n",
      "262785   FFFF43  2017-07-20 20:42:00+03         78500   -0.01\n",
      "262786   FFFFA8  2017-08-08 04:45:00+03         28800   -0.65\n",
      "262787   FFFFF7  2017-07-01 22:12:00+03         73600   -0.07\n",
      "\n",
      "[257647 rows x 4 columns]\n"
     ]
    }
   ],
   "source": [
    "not_outliers = df_bookings[df_bookings['zscore'].abs() <= 3]\n",
    "\n",
    "print(not_outliers.shape)\n",
    "print(not_outliers['total_amount'].describe())\n",
    "\n",
    "print(not_outliers)"
   ]
  },
  {
   "cell_type": "code",
   "execution_count": 53,
   "metadata": {},
   "outputs": [
    {
     "data": {
      "image/png": "[encoded data removed]",
      "text/plain": [
       "<Figure size 640x480 with 1 Axes>"
      ]
     },
     "metadata": {},
     "output_type": "display_data"
    }
   ],
   "source": [
    "sns.histplot(data=outliers,x='total_amount',bins =20, kde=True)\n",
    "plt.title('Outliers-amount')\n",
    "plt.show()"
   ]
  },
  {
   "cell_type": "code",
   "execution_count": 24,
   "metadata": {},
   "outputs": [
    {
     "name": "stdout",
     "output_type": "stream",
     "text": [
      "  book_ref  total_amount  cantidad_tickets\n",
      "0   00000F        265700            366733\n"
     ]
    }
   ],
   "source": [
    "query_bookings_tickets= '''\n",
    "SELECT \n",
    "    b.book_ref,\n",
    "    b.total_amount,\n",
    "    COUNT(t.book_ref) AS cantidad_tickets\n",
    "FROM\n",
    "    bookings as b\n",
    "LEFT JOIN tickets t ON b.book_ref = t.book_ref\n",
    "ORDER BY    \n",
    "    cantidad_tickets\n",
    "'''\n",
    "df_bookings_tickets = pd.read_sql_query(query_bookings_tickets, conexion)\n",
    "\n",
    "# Mostrar las primeras filas de la tabla cargada\n",
    "print(df_bookings_tickets)"
   ]
  },
  {
   "cell_type": "code",
   "execution_count": 31,
   "metadata": {},
   "outputs": [
    {
     "name": "stdout",
     "output_type": "stream",
     "text": [
      "  book_ref               book_date  total_amount\n",
      "0   3B54BB  2017-07-05 17:08:00+03       1204500\n"
     ]
    }
   ],
   "source": [
    "df_bookings_max = pd.read_sql_query(\"SELECT * FROM bookings WHERE total_amount == 1204500\", conexion)\n",
    "print(df_bookings_max)"
   ]
  },
  {
   "cell_type": "markdown",
   "metadata": {},
   "source": [
    "Analisis de duplicados"
   ]
  },
  {
   "cell_type": "code",
   "execution_count": 11,
   "metadata": {},
   "outputs": [
    {
     "name": "stdout",
     "output_type": "stream",
     "text": [
      "0\n"
     ]
    }
   ],
   "source": [
    "conteo_duplicados = df_bookings.duplicated().sum()\n",
    "print(conteo_duplicados)\n"
   ]
  },
  {
   "cell_type": "markdown",
   "metadata": {},
   "source": [
    "#### 2-TICKETS"
   ]
  },
  {
   "cell_type": "code",
   "execution_count": 12,
   "metadata": {},
   "outputs": [
    {
     "name": "stdout",
     "output_type": "stream",
     "text": [
      "       ticket_no book_ref passenger_id\n",
      "0  0005432000987   06B046  8149 604011\n",
      "1  0005432000988   06B046  8499 420203\n",
      "2  0005432000989   E170C3  1011 752484\n",
      "3  0005432000990   E170C3  4849 400049\n",
      "4  0005432000991   F313DD  6615 976589\n"
     ]
    }
   ],
   "source": [
    "# Cargar una tabla específica en un DataFrame de pandas\n",
    "# Suponiendo que la tabla se llama 'mi_tabla'\n",
    "df_tickets= pd.read_sql_query(\"SELECT * FROM tickets\", conexion)\n",
    "\n",
    "# Mostrar las primeras filas de la tabla cargada\n",
    "print(df_tickets.head())"
   ]
  },
  {
   "cell_type": "code",
   "execution_count": 27,
   "metadata": {},
   "outputs": [
    {
     "name": "stdout",
     "output_type": "stream",
     "text": [
      "       ticket_no book_ref passenger_id\n",
      "0  0005435838975   00000F  1708 262537\n"
     ]
    }
   ],
   "source": [
    "df_tickets_0000F= pd.read_sql_query(\"SELECT * FROM tickets WHERE book_ref == '00000F' \", conexion)\n",
    "print(df_tickets_0000F)"
   ]
  },
  {
   "cell_type": "code",
   "execution_count": 32,
   "metadata": {},
   "outputs": [
    {
     "name": "stdout",
     "output_type": "stream",
     "text": [
      "       ticket_no book_ref passenger_id\n",
      "0  0005432537033   3B54BB  5368 241076\n",
      "1  0005432537034   3B54BB  9994 168772\n",
      "2  0005432537035   3B54BB  1406 902284\n"
     ]
    }
   ],
   "source": [
    "df_tickets_3B54BB= pd.read_sql_query(\"SELECT * FROM tickets WHERE book_ref == '3B54BB' \", conexion)\n",
    "print(df_tickets_3B54BB)"
   ]
  },
  {
   "cell_type": "code",
   "execution_count": 55,
   "metadata": {},
   "outputs": [
    {
     "data": {
      "text/plain": [
       "(366733, 3)"
      ]
     },
     "execution_count": 55,
     "metadata": {},
     "output_type": "execute_result"
    }
   ],
   "source": [
    "df_tickets.shape"
   ]
  },
  {
   "cell_type": "code",
   "execution_count": 19,
   "metadata": {},
   "outputs": [
    {
     "data": {
      "text/plain": [
       "Index(['ticket_no', 'book_ref', 'passenger_id'], dtype='object')"
      ]
     },
     "execution_count": 19,
     "metadata": {},
     "output_type": "execute_result"
    }
   ],
   "source": [
    "df_tickets.columns"
   ]
  },
  {
   "cell_type": "code",
   "execution_count": 34,
   "metadata": {},
   "outputs": [
    {
     "name": "stdout",
     "output_type": "stream",
     "text": [
      "ticket_no es unica\n",
      "passenger_id es unica\n"
     ]
    }
   ],
   "source": [
    "for columna in df_tickets.columns:\n",
    "    if df_tickets[columna].nunique() == df_tickets.shape[0]:\n",
    "        print (f'{columna} es unica' )"
   ]
  },
  {
   "cell_type": "markdown",
   "metadata": {},
   "source": [
    "Analisis de Nulos"
   ]
  },
  {
   "cell_type": "code",
   "execution_count": 36,
   "metadata": {},
   "outputs": [
    {
     "name": "stdout",
     "output_type": "stream",
     "text": [
      "Series([], dtype: int64)\n"
     ]
    }
   ],
   "source": [
    "df_tickets_nulos =df_tickets.isnull().sum() [df_tickets.isnull().sum()>0]\n",
    "print(df_tickets_nulos)"
   ]
  },
  {
   "cell_type": "code",
   "execution_count": 17,
   "metadata": {},
   "outputs": [],
   "source": [
    "df_tickets.to_csv('tickets.csv', index= False)"
   ]
  },
  {
   "cell_type": "markdown",
   "metadata": {},
   "source": [
    "Para ver las claves"
   ]
  },
  {
   "cell_type": "code",
   "execution_count": 37,
   "metadata": {},
   "outputs": [],
   "source": [
    " \n",
    "tabla2 = 'tickets'  \n",
    "consulta2 = f\"PRAGMA foreign_key_list({tabla2})\"\n",
    "\n",
    "# Ejecutar la consulta\n",
    "cursor = conexion.cursor()\n",
    "cursor.execute(consulta2)\n",
    "\n",
    "# Mostrar los resultados\n",
    "claves_foraneas2 = cursor.fetchall()\n",
    "for clave in claves_foraneas2:\n",
    "    print(clave)"
   ]
  },
  {
   "cell_type": "markdown",
   "metadata": {},
   "source": [
    "Analisis de duplicados"
   ]
  },
  {
   "cell_type": "code",
   "execution_count": 13,
   "metadata": {},
   "outputs": [
    {
     "name": "stdout",
     "output_type": "stream",
     "text": [
      "0\n"
     ]
    }
   ],
   "source": [
    "conteo_duplicados = df_tickets.duplicated().sum()\n",
    "print(conteo_duplicados)"
   ]
  },
  {
   "cell_type": "markdown",
   "metadata": {},
   "source": [
    "#### 3-FLIGHTS"
   ]
  },
  {
   "cell_type": "code",
   "execution_count": 11,
   "metadata": {},
   "outputs": [
    {
     "name": "stdout",
     "output_type": "stream",
     "text": [
      "   flight_id flight_no     scheduled_departure       scheduled_arrival  \\\n",
      "0       1185    PG0134  2017-09-10 09:50:00+03  2017-09-10 14:55:00+03   \n",
      "1       3979    PG0052  2017-08-25 14:50:00+03  2017-08-25 17:35:00+03   \n",
      "2       4739    PG0561  2017-09-05 12:30:00+03  2017-09-05 14:15:00+03   \n",
      "3       5502    PG0529  2017-09-12 09:50:00+03  2017-09-12 11:20:00+03   \n",
      "4       6938    PG0461  2017-09-04 12:25:00+03  2017-09-04 13:20:00+03   \n",
      "\n",
      "  departure_airport arrival_airport     status aircraft_code actual_departure  \\\n",
      "0               DME             BTK  Scheduled           319               \\N   \n",
      "1               VKO             HMA  Scheduled           CR2               \\N   \n",
      "2               VKO             AER  Scheduled           763               \\N   \n",
      "3               SVO             UFA  Scheduled           763               \\N   \n",
      "4               SVO             ULV  Scheduled           SU9               \\N   \n",
      "\n",
      "  actual_arrival  \n",
      "0             \\N  \n",
      "1             \\N  \n",
      "2             \\N  \n",
      "3             \\N  \n",
      "4             \\N  \n"
     ]
    }
   ],
   "source": [
    " \n",
    "df_flights= pd.read_sql_query(\"SELECT * FROM flights\", conexion)\n",
    "\n",
    "print(df_flights.head())"
   ]
  },
  {
   "cell_type": "code",
   "execution_count": 12,
   "metadata": {},
   "outputs": [
    {
     "data": {
      "text/plain": [
       "Index(['flight_id', 'flight_no', 'scheduled_departure', 'scheduled_arrival',\n",
       "       'departure_airport', 'arrival_airport', 'status', 'aircraft_code',\n",
       "       'actual_departure', 'actual_arrival'],\n",
       "      dtype='object')"
      ]
     },
     "execution_count": 12,
     "metadata": {},
     "output_type": "execute_result"
    }
   ],
   "source": [
    "df_flights.columns"
   ]
  },
  {
   "cell_type": "code",
   "execution_count": 38,
   "metadata": {},
   "outputs": [
    {
     "name": "stdout",
     "output_type": "stream",
     "text": [
      "flight_id es unica\n"
     ]
    }
   ],
   "source": [
    "for columna in df_flights.columns:\n",
    "    if df_flights[columna].nunique() == df_flights.shape[0]:\n",
    "        print (f'{columna} es unica' )"
   ]
  },
  {
   "cell_type": "markdown",
   "metadata": {},
   "source": [
    "Analisis de nulos"
   ]
  },
  {
   "cell_type": "code",
   "execution_count": 39,
   "metadata": {},
   "outputs": [
    {
     "name": "stdout",
     "output_type": "stream",
     "text": [
      "Series([], dtype: int64)\n"
     ]
    }
   ],
   "source": [
    "df_flights_nulos =df_flights.isnull().sum() [df_flights.isnull().sum()>0]\n",
    "print(df_flights_nulos)"
   ]
  },
  {
   "cell_type": "code",
   "execution_count": 19,
   "metadata": {},
   "outputs": [],
   "source": [
    "df_flights.to_csv('flights.csv', index= False)"
   ]
  },
  {
   "cell_type": "markdown",
   "metadata": {},
   "source": [
    "Analisis de duplicados"
   ]
  },
  {
   "cell_type": "code",
   "execution_count": 20,
   "metadata": {},
   "outputs": [
    {
     "name": "stdout",
     "output_type": "stream",
     "text": [
      "0\n"
     ]
    }
   ],
   "source": [
    "conteo_duplicados = df_tickets.duplicated().sum()\n",
    "print(conteo_duplicados)"
   ]
  },
  {
   "cell_type": "markdown",
   "metadata": {},
   "source": [
    "#### 4-TICKETS_FLIGHTS"
   ]
  },
  {
   "cell_type": "code",
   "execution_count": 16,
   "metadata": {},
   "outputs": [
    {
     "name": "stdout",
     "output_type": "stream",
     "text": [
      "       ticket_no  flight_id fare_conditions  amount\n",
      "0  0005432159776      30625        Business   42100\n",
      "1  0005435212351      30625        Business   42100\n",
      "2  0005435212386      30625        Business   42100\n",
      "3  0005435212381      30625        Business   42100\n",
      "4  0005432211370      30625        Business   42100\n"
     ]
    }
   ],
   "source": [
    "df_tickets_flights= pd.read_sql_query(\"SELECT * FROM ticket_flights\", conexion)\n",
    "\n",
    "print(df_tickets_flights.head())"
   ]
  },
  {
   "cell_type": "code",
   "execution_count": 50,
   "metadata": {},
   "outputs": [
    {
     "data": {
      "text/plain": [
       "(1045726, 4)"
      ]
     },
     "execution_count": 50,
     "metadata": {},
     "output_type": "execute_result"
    }
   ],
   "source": [
    "df_tickets_flights.shape"
   ]
  },
  {
   "cell_type": "code",
   "execution_count": 66,
   "metadata": {},
   "outputs": [
    {
     "data": {
      "text/plain": [
       "Index(['ticket_no', 'flight_id', 'fare_conditions', 'amount'], dtype='object')"
      ]
     },
     "execution_count": 66,
     "metadata": {},
     "output_type": "execute_result"
    }
   ],
   "source": [
    "df_tickets_flights.columns"
   ]
  },
  {
   "cell_type": "code",
   "execution_count": 46,
   "metadata": {},
   "outputs": [
    {
     "name": "stdout",
     "output_type": "stream",
     "text": [
      "<class 'pandas.core.frame.DataFrame'>\n",
      "RangeIndex: 1045726 entries, 0 to 1045725\n",
      "Data columns (total 4 columns):\n",
      " #   Column           Non-Null Count    Dtype \n",
      "---  ------           --------------    ----- \n",
      " 0   ticket_no        1045726 non-null  object\n",
      " 1   flight_id        1045726 non-null  int64 \n",
      " 2   fare_conditions  1045726 non-null  object\n",
      " 3   amount           1045726 non-null  int64 \n",
      "dtypes: int64(2), object(2)\n",
      "memory usage: 31.9+ MB\n"
     ]
    }
   ],
   "source": [
    "df_tickets_flights.info()"
   ]
  },
  {
   "cell_type": "code",
   "execution_count": 48,
   "metadata": {},
   "outputs": [
    {
     "data": {
      "text/plain": [
       "count   1,045,726.00\n",
       "mean       19,858.91\n",
       "std        22,612.39\n",
       "min         3,000.00\n",
       "25%         7,200.00\n",
       "50%        13,400.00\n",
       "75%        23,100.00\n",
       "max       203,300.00\n",
       "Name: amount, dtype: float64"
      ]
     },
     "execution_count": 48,
     "metadata": {},
     "output_type": "execute_result"
    }
   ],
   "source": [
    "df_tickets_flights['amount'].describe()"
   ]
  },
  {
   "cell_type": "code",
   "execution_count": 61,
   "metadata": {},
   "outputs": [
    {
     "name": "stdout",
     "output_type": "stream",
     "text": [
      "ticket_no\n",
      "count           1045726\n",
      "unique           366733\n",
      "top       0005432665242\n",
      "freq                  6\n",
      "Name: ticket_no, dtype: object\n",
      "------\n",
      "flight_id\n",
      "count   1,045,726.00\n",
      "mean       14,110.06\n",
      "std         9,732.94\n",
      "min             1.00\n",
      "25%         5,501.00\n",
      "50%        11,926.00\n",
      "75%        23,039.00\n",
      "max        33,121.00\n",
      "Name: flight_id, dtype: float64\n",
      "------\n",
      "fare_conditions\n",
      "count     1045726\n",
      "unique          3\n",
      "top       Economy\n",
      "freq       920793\n",
      "Name: fare_conditions, dtype: object\n",
      "------\n",
      "amount\n",
      "count   1,045,726.00\n",
      "mean       19,858.91\n",
      "std        22,612.39\n",
      "min         3,000.00\n",
      "25%         7,200.00\n",
      "50%        13,400.00\n",
      "75%        23,100.00\n",
      "max       203,300.00\n",
      "Name: amount, dtype: float64\n",
      "------\n"
     ]
    }
   ],
   "source": [
    "for columna in df_tickets_flights.columns:\n",
    "    print(columna)\n",
    "    print(df_tickets_flights[columna].describe())\n",
    "    print ('------' )"
   ]
  },
  {
   "cell_type": "code",
   "execution_count": 62,
   "metadata": {},
   "outputs": [
    {
     "name": "stdout",
     "output_type": "stream",
     "text": [
      "ticket_no\n",
      "366733\n",
      "(1045726, 4)\n",
      "flight_id\n",
      "22226\n",
      "(1045726, 4)\n",
      "fare_conditions\n",
      "3\n",
      "(1045726, 4)\n",
      "amount\n",
      "338\n",
      "(1045726, 4)\n"
     ]
    }
   ],
   "source": [
    "for columna in df_tickets_flights.columns:\n",
    "    print(columna)\n",
    "    print(df_tickets_flights[columna].nunique())\n",
    "    print(df_tickets_flights.shape)\n",
    "    if df_tickets_flights[columna].nunique() == df_tickets_flights.shape[0]:\n",
    "        print (f'{columna} es unica' )"
   ]
  },
  {
   "cell_type": "code",
   "execution_count": 67,
   "metadata": {},
   "outputs": [
    {
     "name": "stdout",
     "output_type": "stream",
     "text": [
      "20766980900\n"
     ]
    }
   ],
   "source": [
    "print(df_tickets_flights['amount'].sum())"
   ]
  },
  {
   "cell_type": "code",
   "execution_count": 68,
   "metadata": {},
   "outputs": [
    {
     "name": "stdout",
     "output_type": "stream",
     "text": [
      "20766980900\n"
     ]
    }
   ],
   "source": [
    "print(df_bookings['total_amount'].sum())"
   ]
  },
  {
   "cell_type": "code",
   "execution_count": 63,
   "metadata": {},
   "outputs": [
    {
     "data": {
      "text/plain": [
       "fare_conditions\n",
       "Business    107642\n",
       "Comfort      17291\n",
       "Economy     920793\n",
       "Name: amount, dtype: int64"
      ]
     },
     "execution_count": 63,
     "metadata": {},
     "output_type": "execute_result"
    }
   ],
   "source": [
    "df_tickets_flights.groupby('fare_conditions')['amount'].count()"
   ]
  },
  {
   "cell_type": "code",
   "execution_count": 64,
   "metadata": {},
   "outputs": [],
   "source": [
    "df_fareconditions = df_tickets_flights.groupby('fare_conditions')['amount']"
   ]
  },
  {
   "cell_type": "code",
   "execution_count": 25,
   "metadata": {},
   "outputs": [
    {
     "name": "stdout",
     "output_type": "stream",
     "text": [
      "<pandas.core.groupby.generic.SeriesGroupBy object at 0x000001CAF43DA150>\n"
     ]
    }
   ],
   "source": [
    "print(df_fareconditions)"
   ]
  },
  {
   "cell_type": "code",
   "execution_count": 65,
   "metadata": {},
   "outputs": [
    {
     "name": "stderr",
     "output_type": "stream",
     "text": [
      "C:\\Users\\PC\\AppData\\Local\\Temp\\ipykernel_11764\\1779466692.py:1: FutureWarning: The provided callable <function mean at 0x0000016553012B60> is currently using SeriesGroupBy.mean. In a future version of pandas, the provided callable will be used directly. To keep current behavior pass the string \"mean\" instead.\n",
      "  df_tickets_flights.pivot_table(columns='fare_conditions',\n",
      "C:\\Users\\PC\\AppData\\Local\\Temp\\ipykernel_11764\\1779466692.py:1: FutureWarning: The provided callable <function max at 0x0000016553012160> is currently using SeriesGroupBy.max. In a future version of pandas, the provided callable will be used directly. To keep current behavior pass the string \"max\" instead.\n",
      "  df_tickets_flights.pivot_table(columns='fare_conditions',\n",
      "C:\\Users\\PC\\AppData\\Local\\Temp\\ipykernel_11764\\1779466692.py:1: FutureWarning: The provided callable <function min at 0x00000165530122A0> is currently using SeriesGroupBy.min. In a future version of pandas, the provided callable will be used directly. To keep current behavior pass the string \"min\" instead.\n",
      "  df_tickets_flights.pivot_table(columns='fare_conditions',\n"
     ]
    },
    {
     "data": {
      "text/html": [
       "<div>\n",
       "<style scoped>\n",
       "    .dataframe tbody tr th:only-of-type {\n",
       "        vertical-align: middle;\n",
       "    }\n",
       "\n",
       "    .dataframe tbody tr th {\n",
       "        vertical-align: top;\n",
       "    }\n",
       "\n",
       "    .dataframe thead th {\n",
       "        text-align: right;\n",
       "    }\n",
       "</style>\n",
       "<table border=\"1\" class=\"dataframe\">\n",
       "  <thead>\n",
       "    <tr style=\"text-align: right;\">\n",
       "      <th></th>\n",
       "      <th>fare_conditions</th>\n",
       "      <th>Business</th>\n",
       "      <th>Comfort</th>\n",
       "      <th>Economy</th>\n",
       "    </tr>\n",
       "  </thead>\n",
       "  <tbody>\n",
       "    <tr>\n",
       "      <th rowspan=\"4\" valign=\"top\">amount</th>\n",
       "      <th>max</th>\n",
       "      <td>203,300.00</td>\n",
       "      <td>47,600.00</td>\n",
       "      <td>74,500.00</td>\n",
       "    </tr>\n",
       "    <tr>\n",
       "      <th>mean</th>\n",
       "      <td>51,143.42</td>\n",
       "      <td>32,740.55</td>\n",
       "      <td>15,959.81</td>\n",
       "    </tr>\n",
       "    <tr>\n",
       "      <th>min</th>\n",
       "      <td>9,100.00</td>\n",
       "      <td>19,900.00</td>\n",
       "      <td>3,000.00</td>\n",
       "    </tr>\n",
       "    <tr>\n",
       "      <th>size</th>\n",
       "      <td>107,642.00</td>\n",
       "      <td>17,291.00</td>\n",
       "      <td>920,793.00</td>\n",
       "    </tr>\n",
       "  </tbody>\n",
       "</table>\n",
       "</div>"
      ],
      "text/plain": [
       "fare_conditions   Business   Comfort    Economy\n",
       "amount max      203,300.00 47,600.00  74,500.00\n",
       "       mean      51,143.42 32,740.55  15,959.81\n",
       "       min        9,100.00 19,900.00   3,000.00\n",
       "       size     107,642.00 17,291.00 920,793.00"
      ]
     },
     "execution_count": 65,
     "metadata": {},
     "output_type": "execute_result"
    }
   ],
   "source": [
    "df_tickets_flights.pivot_table(columns='fare_conditions', \n",
    "                                aggfunc={'amount':[np.mean,np.max,np.min,np.size]})"
   ]
  },
  {
   "cell_type": "markdown",
   "metadata": {},
   "source": [
    "Analisis de Nulos"
   ]
  },
  {
   "cell_type": "code",
   "execution_count": 32,
   "metadata": {},
   "outputs": [
    {
     "name": "stdout",
     "output_type": "stream",
     "text": [
      "Series([], dtype: int64)\n"
     ]
    }
   ],
   "source": [
    "df_tickets_flights_nulos =df_tickets_flights.isnull().sum() [df_tickets_flights.isnull().sum()>0]\n",
    "print(df_tickets_flights_nulos)"
   ]
  },
  {
   "cell_type": "markdown",
   "metadata": {},
   "source": [
    "Analisis de duplicados"
   ]
  },
  {
   "cell_type": "code",
   "execution_count": 17,
   "metadata": {},
   "outputs": [
    {
     "name": "stdout",
     "output_type": "stream",
     "text": [
      "0\n"
     ]
    }
   ],
   "source": [
    "conteo_duplicados = df_tickets_flights.duplicated().sum()\n",
    "print(conteo_duplicados)"
   ]
  },
  {
   "cell_type": "markdown",
   "metadata": {},
   "source": [
    "#### 5-BOARDING_PASSES"
   ]
  },
  {
   "cell_type": "code",
   "execution_count": 20,
   "metadata": {},
   "outputs": [
    {
     "name": "stdout",
     "output_type": "stream",
     "text": [
      "       ticket_no  flight_id  boarding_no seat_no\n",
      "0  0005435212351      30625            1      2D\n",
      "1  0005435212386      30625            2      3G\n",
      "2  0005435212381      30625            3      4H\n",
      "3  0005432211370      30625            4      5D\n",
      "4  0005435212357      30625            5     11A\n"
     ]
    }
   ],
   "source": [
    "df_boarding_passes= pd.read_sql_query(\"SELECT * FROM boarding_passes\", conexion)\n",
    "\n",
    "print(df_boarding_passes.head())"
   ]
  },
  {
   "cell_type": "code",
   "execution_count": 30,
   "metadata": {},
   "outputs": [
    {
     "data": {
      "text/plain": [
       "(579686, 4)"
      ]
     },
     "execution_count": 30,
     "metadata": {},
     "output_type": "execute_result"
    }
   ],
   "source": [
    "df_boarding_passes.shape"
   ]
  },
  {
   "cell_type": "code",
   "execution_count": 58,
   "metadata": {},
   "outputs": [
    {
     "data": {
      "text/plain": [
       "Index(['ticket_no', 'flight_id', 'boarding_no', 'seat_no'], dtype='object')"
      ]
     },
     "execution_count": 58,
     "metadata": {},
     "output_type": "execute_result"
    }
   ],
   "source": [
    "df_boarding_passes.columns"
   ]
  },
  {
   "cell_type": "code",
   "execution_count": 31,
   "metadata": {},
   "outputs": [
    {
     "name": "stdout",
     "output_type": "stream",
     "text": [
      "ticket_no\n",
      "count            579686\n",
      "unique           238834\n",
      "top       0005432692645\n",
      "freq                  6\n",
      "Name: ticket_no, dtype: object\n",
      "------\n",
      "flight_id\n",
      "count    579686.000000\n",
      "mean      13720.816521\n",
      "std        9713.921174\n",
      "min           1.000000\n",
      "25%        5351.000000\n",
      "50%       11217.000000\n",
      "75%       22481.000000\n",
      "max       33120.000000\n",
      "Name: flight_id, dtype: float64\n",
      "------\n",
      "boarding_no\n",
      "count    579686.000000\n",
      "mean         54.971529\n",
      "std          58.819012\n",
      "min           1.000000\n",
      "25%          15.000000\n",
      "50%          36.000000\n",
      "75%          72.000000\n",
      "max         374.000000\n",
      "Name: boarding_no, dtype: float64\n",
      "------\n",
      "seat_no\n",
      "count     579686\n",
      "unique       461\n",
      "top           1A\n",
      "freq        5951\n",
      "Name: seat_no, dtype: object\n",
      "------\n"
     ]
    }
   ],
   "source": [
    "for columna in df_boarding_passes.columns:\n",
    "    print(columna)\n",
    "    print(df_boarding_passes[columna].describe())\n",
    "    print ('------' )"
   ]
  },
  {
   "cell_type": "code",
   "execution_count": 29,
   "metadata": {},
   "outputs": [
    {
     "name": "stdout",
     "output_type": "stream",
     "text": [
      "ticket_no\n",
      "238834\n",
      "(579686, 4)\n",
      "flight_id\n",
      "11518\n",
      "(579686, 4)\n",
      "boarding_no\n",
      "374\n",
      "(579686, 4)\n",
      "seat_no\n",
      "461\n",
      "(579686, 4)\n"
     ]
    }
   ],
   "source": [
    "for columna in df_boarding_passes.columns:\n",
    "    print(columna)\n",
    "    print(df_boarding_passes[columna].nunique())\n",
    "    print(df_boarding_passes.shape)\n",
    "    if df_boarding_passes[columna].nunique() == df_boarding_passes.shape[0]:\n",
    "        print (f'{columna} es unica' )"
   ]
  },
  {
   "cell_type": "markdown",
   "metadata": {},
   "source": [
    "Analisis de Nulos"
   ]
  },
  {
   "cell_type": "code",
   "execution_count": 33,
   "metadata": {},
   "outputs": [
    {
     "name": "stdout",
     "output_type": "stream",
     "text": [
      "Series([], dtype: int64)\n"
     ]
    }
   ],
   "source": [
    "df_boarding_passes_nulos =df_boarding_passes.isnull().sum() [df_boarding_passes.isnull().sum()>0]\n",
    "print(df_boarding_passes_nulos)"
   ]
  },
  {
   "cell_type": "code",
   "execution_count": 21,
   "metadata": {},
   "outputs": [
    {
     "name": "stdout",
     "output_type": "stream",
     "text": [
      "             ticket_no  flight_id  seat_no\n",
      "boarding_no                               \n",
      "1                11518      11518    11518\n",
      "2                11399      11399    11399\n",
      "3                11165      11165    11165\n",
      "4                10906      10906    10906\n",
      "5                10609      10609    10609\n",
      "...                ...        ...      ...\n",
      "370                  1          1        1\n",
      "371                  1          1        1\n",
      "372                  1          1        1\n",
      "373                  1          1        1\n",
      "374                  1          1        1\n",
      "\n",
      "[374 rows x 3 columns]\n"
     ]
    }
   ],
   "source": [
    "boarding_passes_group =df_boarding_passes.groupby('boarding_no').count()\n",
    "print(boarding_passes_group)"
   ]
  },
  {
   "cell_type": "code",
   "execution_count": 33,
   "metadata": {},
   "outputs": [
    {
     "name": "stdout",
     "output_type": "stream",
     "text": [
      "             ticket_no\n",
      "boarding_no           \n",
      "1                11518\n",
      "2                11399\n",
      "3                11165\n",
      "4                10906\n",
      "5                10609\n",
      "...                ...\n",
      "342                 29\n",
      "343                 27\n",
      "344                 23\n",
      "345                 17\n",
      "346                 15\n",
      "\n",
      "[346 rows x 1 columns]\n"
     ]
    }
   ],
   "source": [
    "df_boardings_repetidos = df_boarding_passes.pivot_table(index='boarding_no', \n",
    "                                aggfunc={'ticket_no':np.size})\n",
    "df_boarding_passes_mayor10 =df_boardings_repetidos[df_boardings_repetidos['ticket_no']>10]\n",
    "print(df_boarding_passes_mayor10)\n"
   ]
  },
  {
   "cell_type": "code",
   "execution_count": 29,
   "metadata": {},
   "outputs": [
    {
     "name": "stdout",
     "output_type": "stream",
     "text": [
      "     boarding_no  Cantidad_tickets  Cantidad_vuelos\n",
      "0            366                 1                1\n",
      "1            367                 1                1\n",
      "2            368                 1                1\n",
      "3            369                 1                1\n",
      "4            370                 1                1\n",
      "..           ...               ...              ...\n",
      "369            5             10609            10609\n",
      "370            4             10906            10906\n",
      "371            3             11165            11165\n",
      "372            2             11399            11399\n",
      "373            1             11518            11518\n",
      "\n",
      "[374 rows x 3 columns]\n"
     ]
    }
   ],
   "source": [
    "query_bytickets = '''\n",
    "SELECT\n",
    "    boarding_no,\n",
    "    COUNT(ticket_no) AS Cantidad_tickets,\n",
    "    COUNT(flight_id) AS Cantidad_vuelos\n",
    "FROM\n",
    "    boarding_passes\n",
    "GROUP BY\n",
    "    boarding_no\n",
    "ORDER BY \n",
    "    Cantidad_tickets\n",
    "'''\n",
    "\n",
    "df_boarding_passes_bytickets= pd.read_sql_query(query_bytickets, conexion)\n",
    "print(df_boarding_passes_bytickets)\n"
   ]
  },
  {
   "cell_type": "markdown",
   "metadata": {},
   "source": [
    "Analisis de duplicados"
   ]
  },
  {
   "cell_type": "code",
   "execution_count": 15,
   "metadata": {},
   "outputs": [
    {
     "name": "stdout",
     "output_type": "stream",
     "text": [
      "0\n"
     ]
    }
   ],
   "source": [
    "conteo_duplicados = df_boarding_passes.duplicated().sum()\n",
    "print(conteo_duplicados)"
   ]
  },
  {
   "cell_type": "markdown",
   "metadata": {},
   "source": [
    "#### 6-SEATS"
   ]
  },
  {
   "cell_type": "code",
   "execution_count": 13,
   "metadata": {},
   "outputs": [
    {
     "name": "stdout",
     "output_type": "stream",
     "text": [
      "  aircraft_code seat_no fare_conditions\n",
      "0           319      2A        Business\n",
      "1           319      2C        Business\n",
      "2           319      2D        Business\n",
      "3           319      2F        Business\n",
      "4           319      3A        Business\n"
     ]
    }
   ],
   "source": [
    "df_seats= pd.read_sql_query(\"SELECT * FROM seats\", conexion)\n",
    "\n",
    "print(df_seats.head())"
   ]
  },
  {
   "cell_type": "code",
   "execution_count": 36,
   "metadata": {},
   "outputs": [
    {
     "data": {
      "text/plain": [
       "(1339, 3)"
      ]
     },
     "execution_count": 36,
     "metadata": {},
     "output_type": "execute_result"
    }
   ],
   "source": [
    "df_seats.shape"
   ]
  },
  {
   "cell_type": "code",
   "execution_count": 14,
   "metadata": {},
   "outputs": [
    {
     "data": {
      "text/plain": [
       "Index(['aircraft_code', 'seat_no', 'fare_conditions'], dtype='object')"
      ]
     },
     "execution_count": 14,
     "metadata": {},
     "output_type": "execute_result"
    }
   ],
   "source": [
    "df_seats.columns"
   ]
  },
  {
   "cell_type": "code",
   "execution_count": 37,
   "metadata": {},
   "outputs": [
    {
     "name": "stdout",
     "output_type": "stream",
     "text": [
      "aircraft_code\n",
      "count     1339\n",
      "unique       9\n",
      "top        773\n",
      "freq       402\n",
      "Name: aircraft_code, dtype: object\n",
      "------\n",
      "seat_no\n",
      "count     1339\n",
      "unique     461\n",
      "top         1A\n",
      "freq         9\n",
      "Name: seat_no, dtype: object\n",
      "------\n",
      "fare_conditions\n",
      "count        1339\n",
      "unique          3\n",
      "top       Economy\n",
      "freq         1139\n",
      "Name: fare_conditions, dtype: object\n",
      "------\n"
     ]
    }
   ],
   "source": [
    "for columna in df_seats.columns:\n",
    "    print(columna)\n",
    "    print(df_seats[columna].describe())\n",
    "    print ('------' )"
   ]
  },
  {
   "cell_type": "code",
   "execution_count": 38,
   "metadata": {},
   "outputs": [
    {
     "name": "stdout",
     "output_type": "stream",
     "text": [
      "aircraft_code\n",
      "9\n",
      "(1339, 3)\n",
      "seat_no\n",
      "461\n",
      "(1339, 3)\n",
      "fare_conditions\n",
      "3\n",
      "(1339, 3)\n"
     ]
    }
   ],
   "source": [
    "for columna in df_seats.columns:\n",
    "    print(columna)\n",
    "    print(df_seats[columna].nunique())\n",
    "    print(df_seats.shape)\n",
    "    if df_seats[columna].nunique() == df_seats.shape[0]:\n",
    "        print (f'{columna} es unica' )"
   ]
  },
  {
   "cell_type": "markdown",
   "metadata": {},
   "source": [
    "Analisis de nulos"
   ]
  },
  {
   "cell_type": "code",
   "execution_count": 23,
   "metadata": {},
   "outputs": [
    {
     "name": "stdout",
     "output_type": "stream",
     "text": [
      "Series([], dtype: int64)\n"
     ]
    }
   ],
   "source": [
    "df_seats_nulos =df_seats.isnull().sum() [df_seats.isnull().sum()>0]\n",
    "print(df_seats_nulos)"
   ]
  },
  {
   "cell_type": "markdown",
   "metadata": {},
   "source": [
    "Analisis de duplicados"
   ]
  },
  {
   "cell_type": "code",
   "execution_count": 22,
   "metadata": {},
   "outputs": [
    {
     "name": "stdout",
     "output_type": "stream",
     "text": [
      "0\n"
     ]
    }
   ],
   "source": [
    "conteo_duplicados = df_seats.duplicated().sum()\n",
    "print(conteo_duplicados)"
   ]
  },
  {
   "cell_type": "markdown",
   "metadata": {},
   "source": [
    "#### 7-AIRCRAFTS"
   ]
  },
  {
   "cell_type": "code",
   "execution_count": 15,
   "metadata": {},
   "outputs": [
    {
     "name": "stdout",
     "output_type": "stream",
     "text": [
      "  aircraft_code                                              model  range\n",
      "0           773    {\"en\": \"Boeing 777-300\", \"ru\": \"Боинг 777-300\"}  11100\n",
      "1           763    {\"en\": \"Boeing 767-300\", \"ru\": \"Боинг 767-300\"}   7900\n",
      "2           SU9  {\"en\": \"Sukhoi Superjet-100\", \"ru\": \"Сухой Суп...   3000\n",
      "3           320  {\"en\": \"Airbus A320-200\", \"ru\": \"Аэробус A320-...   5700\n",
      "4           321  {\"en\": \"Airbus A321-200\", \"ru\": \"Аэробус A321-...   5600\n"
     ]
    }
   ],
   "source": [
    "df_aircrafts= pd.read_sql_query(\"SELECT * FROM aircrafts_data\", conexion)\n",
    "\n",
    "print(df_aircrafts.head())"
   ]
  },
  {
   "cell_type": "code",
   "execution_count": 41,
   "metadata": {},
   "outputs": [
    {
     "data": {
      "text/plain": [
       "(9, 3)"
      ]
     },
     "execution_count": 41,
     "metadata": {},
     "output_type": "execute_result"
    }
   ],
   "source": [
    "df_aircrafts.shape"
   ]
  },
  {
   "cell_type": "code",
   "execution_count": 16,
   "metadata": {},
   "outputs": [
    {
     "data": {
      "text/plain": [
       "Index(['aircraft_code', 'model', 'range'], dtype='object')"
      ]
     },
     "execution_count": 16,
     "metadata": {},
     "output_type": "execute_result"
    }
   ],
   "source": [
    "df_aircrafts.columns"
   ]
  },
  {
   "cell_type": "code",
   "execution_count": 42,
   "metadata": {},
   "outputs": [
    {
     "name": "stdout",
     "output_type": "stream",
     "text": [
      "aircraft_code\n",
      "count       9\n",
      "unique      9\n",
      "top       773\n",
      "freq        1\n",
      "Name: aircraft_code, dtype: object\n",
      "------\n",
      "model\n",
      "count                                                   9\n",
      "unique                                                  9\n",
      "top       {\"en\": \"Boeing 777-300\", \"ru\": \"Боинг 777-300\"}\n",
      "freq                                                    1\n",
      "Name: model, dtype: object\n",
      "------\n",
      "range\n",
      "count        9.000000\n",
      "mean      5344.444444\n",
      "std       3013.764718\n",
      "min       1200.000000\n",
      "25%       3000.000000\n",
      "50%       5600.000000\n",
      "75%       6700.000000\n",
      "max      11100.000000\n",
      "Name: range, dtype: float64\n",
      "------\n"
     ]
    }
   ],
   "source": [
    "for columna in df_aircrafts.columns:\n",
    "    print(columna)\n",
    "    print(df_aircrafts[columna].describe())\n",
    "    print ('------' )"
   ]
  },
  {
   "cell_type": "code",
   "execution_count": 43,
   "metadata": {},
   "outputs": [
    {
     "name": "stdout",
     "output_type": "stream",
     "text": [
      "aircraft_code\n",
      "9\n",
      "(9, 3)\n",
      "aircraft_code es unica\n",
      "model\n",
      "9\n",
      "(9, 3)\n",
      "model es unica\n",
      "range\n",
      "9\n",
      "(9, 3)\n",
      "range es unica\n"
     ]
    }
   ],
   "source": [
    "for columna in df_aircrafts.columns:\n",
    "    print(columna)\n",
    "    print(df_aircrafts[columna].nunique())\n",
    "    print(df_aircrafts.shape)\n",
    "    if df_aircrafts[columna].nunique() == df_aircrafts.shape[0]:\n",
    "        print (f'{columna} es unica' )"
   ]
  },
  {
   "cell_type": "markdown",
   "metadata": {},
   "source": [
    "Analisis de nulos"
   ]
  },
  {
   "cell_type": "code",
   "execution_count": 26,
   "metadata": {},
   "outputs": [
    {
     "name": "stdout",
     "output_type": "stream",
     "text": [
      "Series([], dtype: int64)\n"
     ]
    }
   ],
   "source": [
    "df_aircrafts_nulos =df_aircrafts.isnull().sum() [df_aircrafts.isnull().sum()>0]\n",
    "print(df_aircrafts_nulos)"
   ]
  },
  {
   "cell_type": "markdown",
   "metadata": {},
   "source": [
    "Analisis de duplicados"
   ]
  },
  {
   "cell_type": "code",
   "execution_count": 25,
   "metadata": {},
   "outputs": [
    {
     "name": "stdout",
     "output_type": "stream",
     "text": [
      "0\n"
     ]
    }
   ],
   "source": [
    "conteo_duplicados = df_aircrafts.duplicated().sum()\n",
    "print(conteo_duplicados)"
   ]
  },
  {
   "cell_type": "markdown",
   "metadata": {},
   "source": [
    "#### 8-AIRPORTS"
   ]
  },
  {
   "cell_type": "code",
   "execution_count": 17,
   "metadata": {},
   "outputs": [
    {
     "name": "stdout",
     "output_type": "stream",
     "text": [
      "  airport_code                                       airport_name  \\\n",
      "0          YKS          {\"en\": \"Yakutsk Airport\", \"ru\": \"Якутск\"}   \n",
      "1          MJZ            {\"en\": \"Mirny Airport\", \"ru\": \"Мирный\"}   \n",
      "2          KHV  {\"en\": \"Khabarovsk-Novy Airport\", \"ru\": \"Хабар...   \n",
      "3          PKC        {\"en\": \"Yelizovo Airport\", \"ru\": \"Елизово\"}   \n",
      "4          UUS  {\"en\": \"Yuzhno-Sakhalinsk Airport\", \"ru\": \"Хом...   \n",
      "\n",
      "                                                city  \\\n",
      "0                  {\"en\": \"Yakutsk\", \"ru\": \"Якутск\"}   \n",
      "1                   {\"en\": \"Mirnyj\", \"ru\": \"Мирный\"}   \n",
      "2            {\"en\": \"Khabarovsk\", \"ru\": \"Хабаровск\"}   \n",
      "3  {\"en\": \"Petropavlovsk\", \"ru\": \"Петропавловск-К...   \n",
      "4  {\"en\": \"Yuzhno-Sakhalinsk\", \"ru\": \"Южно-Сахали...   \n",
      "\n",
      "                                 coordinates          timezone  \n",
      "0      (129.77099609375,62.0932998657226562)      Asia/Yakutsk  \n",
      "1    (114.03900146484375,62.534698486328125)      Asia/Yakutsk  \n",
      "2      (135.18800354004,48.5279998779300001)  Asia/Vladivostok  \n",
      "3  (158.453994750976562,53.1679000854492188)    Asia/Kamchatka  \n",
      "4  (142.718002319335938,46.8886985778808594)     Asia/Sakhalin  \n"
     ]
    }
   ],
   "source": [
    "df_airports= pd.read_sql_query(\"SELECT * FROM airports_data\", conexion)\n",
    "\n",
    "print(df_airports.head())"
   ]
  },
  {
   "cell_type": "code",
   "execution_count": 45,
   "metadata": {},
   "outputs": [
    {
     "data": {
      "text/plain": [
       "(104, 5)"
      ]
     },
     "execution_count": 45,
     "metadata": {},
     "output_type": "execute_result"
    }
   ],
   "source": [
    "df_airports.shape"
   ]
  },
  {
   "cell_type": "code",
   "execution_count": 18,
   "metadata": {},
   "outputs": [
    {
     "data": {
      "text/plain": [
       "Index(['airport_code', 'airport_name', 'city', 'coordinates', 'timezone'], dtype='object')"
      ]
     },
     "execution_count": 18,
     "metadata": {},
     "output_type": "execute_result"
    }
   ],
   "source": [
    "df_airports.columns"
   ]
  },
  {
   "cell_type": "code",
   "execution_count": 46,
   "metadata": {},
   "outputs": [
    {
     "name": "stdout",
     "output_type": "stream",
     "text": [
      "airport_code\n",
      "count     104\n",
      "unique    104\n",
      "top       YKS\n",
      "freq        1\n",
      "Name: airport_code, dtype: object\n",
      "------\n",
      "airport_name\n",
      "count                                           104\n",
      "unique                                          104\n",
      "top       {\"en\": \"Yakutsk Airport\", \"ru\": \"Якутск\"}\n",
      "freq                                              1\n",
      "Name: airport_name, dtype: object\n",
      "------\n",
      "city\n",
      "count                                  104\n",
      "unique                                 101\n",
      "top       {\"en\": \"Moscow\", \"ru\": \"Москва\"}\n",
      "freq                                     3\n",
      "Name: city, dtype: object\n",
      "------\n",
      "coordinates\n",
      "count                                       104\n",
      "unique                                      104\n",
      "top       (129.77099609375,62.0932998657226562)\n",
      "freq                                          1\n",
      "Name: coordinates, dtype: object\n",
      "------\n",
      "timezone\n",
      "count               104\n",
      "unique               17\n",
      "top       Europe/Moscow\n",
      "freq                 44\n",
      "Name: timezone, dtype: object\n",
      "------\n"
     ]
    }
   ],
   "source": [
    "for columna in df_airports.columns:\n",
    "    print(columna)\n",
    "    print(df_airports[columna].describe())\n",
    "    print ('------' )"
   ]
  },
  {
   "cell_type": "code",
   "execution_count": 47,
   "metadata": {},
   "outputs": [
    {
     "name": "stdout",
     "output_type": "stream",
     "text": [
      "airport_code\n",
      "104\n",
      "(104, 5)\n",
      "airport_code es unica\n",
      "airport_name\n",
      "104\n",
      "(104, 5)\n",
      "airport_name es unica\n",
      "city\n",
      "101\n",
      "(104, 5)\n",
      "coordinates\n",
      "104\n",
      "(104, 5)\n",
      "coordinates es unica\n",
      "timezone\n",
      "17\n",
      "(104, 5)\n"
     ]
    }
   ],
   "source": [
    "for columna in df_airports.columns:\n",
    "    print(columna)\n",
    "    print(df_airports[columna].nunique())\n",
    "    print(df_airports.shape)\n",
    "    if df_airports[columna].nunique() == df_airports.shape[0]:\n",
    "        print (f'{columna} es unica' )"
   ]
  },
  {
   "cell_type": "markdown",
   "metadata": {},
   "source": [
    "Analisis de nulos"
   ]
  },
  {
   "cell_type": "code",
   "execution_count": 30,
   "metadata": {},
   "outputs": [
    {
     "name": "stdout",
     "output_type": "stream",
     "text": [
      "Series([], dtype: int64)\n"
     ]
    }
   ],
   "source": [
    "df_airports_nulos =df_airports.isnull().sum() [df_airports.isnull().sum()>0]\n",
    "print(df_airports_nulos)"
   ]
  },
  {
   "cell_type": "markdown",
   "metadata": {},
   "source": [
    "Analisis de duplicados"
   ]
  },
  {
   "cell_type": "code",
   "execution_count": 29,
   "metadata": {},
   "outputs": [
    {
     "name": "stdout",
     "output_type": "stream",
     "text": [
      "0\n"
     ]
    }
   ],
   "source": [
    "conteo_duplicados = df_airports.duplicated().sum()\n",
    "print(conteo_duplicados)"
   ]
  },
  {
   "cell_type": "code",
   "execution_count": null,
   "metadata": {},
   "outputs": [],
   "source": [
    "# Cerrar la conexión\n",
    "conexion.close()"
   ]
  }
 ],
 "metadata": {
  "kernelspec": {
   "display_name": "Python 3",
   "language": "python",
   "name": "python3"
  },
  "language_info": {
   "codemirror_mode": {
    "name": "ipython",
    "version": 3
   },
   "file_extension": ".py",
   "mimetype": "text/x-python",
   "name": "python",
   "nbconvert_exporter": "python",
   "pygments_lexer": "ipython3",
   "version": "3.11.2"
  }
 },
 "nbformat": 4,
 "nbformat_minor": 2
}
